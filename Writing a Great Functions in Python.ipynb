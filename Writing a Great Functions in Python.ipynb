{
 "cells": [
  {
   "cell_type": "markdown",
   "id": "65970e3a",
   "metadata": {},
   "source": [
    "# Writing a grest functions in Python"
   ]
  },
  {
   "cell_type": "markdown",
   "id": "14f43c79",
   "metadata": {},
   "source": [
    "#### **Q**: Shaun is currently paying back a home loan for a house he bought a few years ago. The cost of the house was `$800,000`. Shaun made a down payment of `25%` of the price. He financed the remaining amount using a 6-year loan with an interest rate of `7%` per annum (compounded monthly). Shaun is now buying a car worth `$60,000`, which he is planning to finance using a 1-year loan with an interest rate of `12%` per annum. Both loans are paid back in EMIs. What is the total monthly payment Shaun makes towards loan repayment?"
   ]
  },
  {
   "cell_type": "code",
   "execution_count": 6,
   "id": "541a5a6e",
   "metadata": {},
   "outputs": [],
   "source": [
    "def loan_emi(amount):\n",
    "    emi = amount / 12\n",
    "    print('The EMI is ${}'.format(emi))"
   ]
  },
  {
   "cell_type": "code",
   "execution_count": 7,
   "id": "d4ee05d7",
   "metadata": {},
   "outputs": [],
   "source": [
    "def loan_emi(amount, duration):\n",
    "    emi = amount / duration\n",
    "    print('The EMI is ${}'.format(emi))"
   ]
  },
  {
   "cell_type": "code",
   "execution_count": 8,
   "id": "93221867",
   "metadata": {},
   "outputs": [],
   "source": [
    "def loan_emi(amount, duration):\n",
    "    emi = amount / duration\n",
    "    return emi"
   ]
  },
  {
   "cell_type": "code",
   "execution_count": 10,
   "id": "a8e6493f",
   "metadata": {},
   "outputs": [],
   "source": [
    "def loan_emi(amount, duration, down_payment=0):\n",
    "    loan_amount = amount - down_payment\n",
    "    emi = loan_amount / duration\n",
    "    return emi"
   ]
  },
  {
   "cell_type": "code",
   "execution_count": 11,
   "id": "21e717e9",
   "metadata": {},
   "outputs": [],
   "source": [
    "def loan_emi(amount, duration, rate, down_payment=0):\n",
    "    loan_amount = amount - down_payment\n",
    "    emi = loan_amount * rate * ((1+rate)**duration) / (((1+rate)**duration)-1)\n",
    "    return emi"
   ]
  },
  {
   "cell_type": "code",
   "execution_count": 13,
   "id": "8553b34a",
   "metadata": {},
   "outputs": [],
   "source": [
    "import math"
   ]
  },
  {
   "cell_type": "code",
   "execution_count": 14,
   "id": "4c1d5fad",
   "metadata": {},
   "outputs": [
    {
     "name": "stdout",
     "output_type": "stream",
     "text": [
      "Help on built-in function ceil in module math:\n",
      "\n",
      "ceil(x, /)\n",
      "    Return the ceiling of x as an Integral.\n",
      "    \n",
      "    This is the smallest integer >= x.\n",
      "\n"
     ]
    }
   ],
   "source": [
    "help(math.ceil)"
   ]
  },
  {
   "cell_type": "code",
   "execution_count": 17,
   "id": "b588a530",
   "metadata": {},
   "outputs": [],
   "source": [
    "def loan_emi(amount, duration, rate, down_payment=0):\n",
    "    loan_amount = amount - down_payment\n",
    "    emi = loan_amount * rate * ((1+rate)**duration) / (((1+rate)**duration)-1)\n",
    "    emi = math.ceil(emi)\n",
    "    return emi"
   ]
  },
  {
   "cell_type": "code",
   "execution_count": 18,
   "id": "6c886223",
   "metadata": {},
   "outputs": [
    {
     "data": {
      "text/plain": [
       "10230"
      ]
     },
     "execution_count": 18,
     "metadata": {},
     "output_type": "execute_result"
    }
   ],
   "source": [
    "cost_of_house = 800000\n",
    "home_loan_duration = 6*12 # months\n",
    "home_loan_rate = 0.07/12 # monthly\n",
    "home_down_payment = .25 * 800000\n",
    "\n",
    "emi_house = loan_emi(amount=cost_of_house,\n",
    "                     duration=home_loan_duration,\n",
    "                     rate=home_loan_rate, \n",
    "                     down_payment=home_down_payment)\n",
    "\n",
    "emi_house"
   ]
  },
  {
   "cell_type": "code",
   "execution_count": 19,
   "id": "73ec1a87",
   "metadata": {},
   "outputs": [
    {
     "data": {
      "text/plain": [
       "5331"
      ]
     },
     "execution_count": 19,
     "metadata": {},
     "output_type": "execute_result"
    }
   ],
   "source": [
    "cost_of_car = 60000\n",
    "car_loan_duration = 1*12 # months\n",
    "car_loan_rate = .12/12 # monthly\n",
    "\n",
    "emi_car = loan_emi(amount=cost_of_car, \n",
    "                   duration=car_loan_duration, \n",
    "                   rate=car_loan_rate)\n",
    "\n",
    "emi_car"
   ]
  },
  {
   "cell_type": "code",
   "execution_count": 20,
   "id": "660d4976",
   "metadata": {},
   "outputs": [
    {
     "name": "stdout",
     "output_type": "stream",
     "text": [
      "Shaun makes a total monthly payment of $15561 towards loan repayments.\n"
     ]
    }
   ],
   "source": [
    "print(\"Shaun makes a total monthly payment of ${} towards loan repayments.\".format(emi_house+emi_car))"
   ]
  },
  {
   "cell_type": "code",
   "execution_count": null,
   "id": "dc198f66",
   "metadata": {},
   "outputs": [],
   "source": []
  }
 ],
 "metadata": {
  "kernelspec": {
   "display_name": "Python 3 (ipykernel)",
   "language": "python",
   "name": "python3"
  },
  "language_info": {
   "codemirror_mode": {
    "name": "ipython",
    "version": 3
   },
   "file_extension": ".py",
   "mimetype": "text/x-python",
   "name": "python",
   "nbconvert_exporter": "python",
   "pygments_lexer": "ipython3",
   "version": "3.10.7"
  }
 },
 "nbformat": 4,
 "nbformat_minor": 5
}
